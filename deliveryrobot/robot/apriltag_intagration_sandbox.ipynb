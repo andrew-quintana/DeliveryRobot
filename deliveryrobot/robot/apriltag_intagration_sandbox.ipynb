{
 "cells": [
  {
   "cell_type": "code",
   "execution_count": 1,
   "metadata": {},
   "outputs": [],
   "source": [
    "import sys\n",
    "import delivery_driver as dd\n",
    "sys.path.append(\"../../deliveryrobot\")\n",
    "from utilities.utilities import *\n",
    "import time"
   ]
  },
  {
   "cell_type": "code",
   "execution_count": 2,
   "metadata": {},
   "outputs": [
    {
     "name": "stdout",
     "output_type": "stream",
     "text": [
      "Robot setup complete in 0.9316167831420898 seconds\n"
     ]
    }
   ],
   "source": [
    "start_time = time.time()\n",
    "robot = dd.DeliveryRobot()\n",
    "print(f\"Robot setup complete in {time.time()-start_time} seconds\")"
   ]
  },
  {
   "cell_type": "code",
   "execution_count": 3,
   "metadata": {},
   "outputs": [
    {
     "name": "stdout",
     "output_type": "stream",
     "text": [
      "[0.14814815 0.14814815]\n"
     ]
    }
   ],
   "source": [
    "speed = np.array([0.2,0.2])\n",
    "speed *= 0.2/0.27\n",
    "print(speed)\n",
    "robot.robot.set_motors(speed[0],speed[1])\n",
    "time.sleep(3)\n",
    "robot.robot.stop()"
   ]
  },
  {
   "cell_type": "code",
   "execution_count": 4,
   "metadata": {},
   "outputs": [
    {
     "name": "stdout",
     "output_type": "stream",
     "text": [
      "\n",
      "- - - - - - - - - - -\n",
      "\n",
      "Time since last call: 3.0959084033966064\n",
      "Steering: [0. 0.] 0.0\n",
      "Position: [0. 0.]\n",
      "Orientation: 0.0\n",
      "Velocity: [0. 0.]\n",
      "Rotation Vel: 0.0\n"
     ]
    },
    {
     "data": {
      "text/plain": [
       "1"
      ]
     },
     "execution_count": 4,
     "metadata": {},
     "output_type": "execute_result"
    }
   ],
   "source": [
    "robot.target_ai.slam_update([0.5,0.1,0])\n",
    "robot.arrive_ai(1)"
   ]
  },
  {
   "cell_type": "code",
   "execution_count": 5,
   "metadata": {},
   "outputs": [
    {
     "name": "stdout",
     "output_type": "stream",
     "text": [
      "3.219294437326594 3.236550871655343\n",
      "Duration: 0.021851062774658203\n"
     ]
    }
   ],
   "source": [
    "import kinematics.movementai as ai\n",
    "start_time = time.time()\n",
    "steering = ai.SteeringOutput([0.2,0.0],0.0)\n",
    "left, right = robot.robot_ai.get_drive_params(steering, 1)\n",
    "print(left,right)\n",
    "robot.robot.set_motors(left,right)\n",
    "print(\"Duration:\", time.time() - start_time)\n",
    "time.sleep(0.5)\n",
    "robot.robot.stop()"
   ]
  },
  {
   "cell_type": "code",
   "execution_count": 6,
   "metadata": {},
   "outputs": [],
   "source": [
    "import matplotlib.pyplot as plt\n",
    "import cv2\n",
    "i=0"
   ]
  },
  {
   "cell_type": "code",
   "execution_count": 7,
   "metadata": {},
   "outputs": [
    {
     "data": {
      "text/plain": [
       "'filename = f\"calibration_{i}.jpg\"\\ni += 1\\nfilename = robot.take_picture(cal_dir, filename)\\nimg = cv2.imread(filename)\\nplt.imshow(img)'"
      ]
     },
     "execution_count": 7,
     "metadata": {},
     "output_type": "execute_result"
    }
   ],
   "source": [
    "\"\"\"filename = f\"calibration_{i}.jpg\"\n",
    "i += 1\n",
    "filename = robot.take_picture(cal_dir, filename)\n",
    "img = cv2.imread(filename)\n",
    "plt.imshow(img)\"\"\""
   ]
  },
  {
   "cell_type": "code",
   "execution_count": 8,
   "metadata": {},
   "outputs": [
    {
     "name": "stdout",
     "output_type": "stream",
     "text": [
      "AprilTag sensor setup COMPLETE\n",
      "Sensor calibration and setup in 0.03280496597290039 seconds\n"
     ]
    },
    {
     "ename": "error",
     "evalue": "OpenCV(4.1.1) /home/nvidia/host/build_opencv/nv_opencv/modules/imgproc/src/color.cpp:182: error: (-215:Assertion failed) !_src.empty() in function 'cvtColor'\n",
     "output_type": "error",
     "traceback": [
      "\u001b[0;31m\u001b[0m",
      "\u001b[0;31merror\u001b[0mTraceback (most recent call last)",
      "\u001b[0;32m<ipython-input-8-1f66fa805bab>\u001b[0m in \u001b[0;36m<module>\u001b[0;34m\u001b[0m\n\u001b[1;32m     10\u001b[0m \u001b[0mmeasurements\u001b[0m\u001b[0;34m=\u001b[0m\u001b[0;34m{\u001b[0m\u001b[0;34m}\u001b[0m\u001b[0;34m\u001b[0m\u001b[0;34m\u001b[0m\u001b[0m\n\u001b[1;32m     11\u001b[0m \u001b[0mstart_time\u001b[0m \u001b[0;34m=\u001b[0m \u001b[0mtime\u001b[0m\u001b[0;34m.\u001b[0m\u001b[0mtime\u001b[0m\u001b[0;34m(\u001b[0m\u001b[0;34m)\u001b[0m\u001b[0;34m\u001b[0m\u001b[0;34m\u001b[0m\u001b[0m\n\u001b[0;32m---> 12\u001b[0;31m \u001b[0msensor\u001b[0m\u001b[0;34m.\u001b[0m\u001b[0mdetect\u001b[0m\u001b[0;34m(\u001b[0m\u001b[0mpath\u001b[0m\u001b[0;34m,\u001b[0m \u001b[0mmeasurements\u001b[0m\u001b[0;34m)\u001b[0m\u001b[0;34m\u001b[0m\u001b[0;34m\u001b[0m\u001b[0m\n\u001b[0m\u001b[1;32m     13\u001b[0m \u001b[0mprint\u001b[0m\u001b[0;34m(\u001b[0m\u001b[0;34mf\"Sensor detections in {time.time()-start_time} seconds\"\u001b[0m\u001b[0;34m)\u001b[0m\u001b[0;34m\u001b[0m\u001b[0;34m\u001b[0m\u001b[0m\n\u001b[1;32m     14\u001b[0m \u001b[0mprint\u001b[0m\u001b[0;34m(\u001b[0m\u001b[0mmeasurements\u001b[0m\u001b[0;34m)\u001b[0m\u001b[0;34m\u001b[0m\u001b[0;34m\u001b[0m\u001b[0m\n",
      "\u001b[0;32m/workspace/DeliveryRobot/deliveryrobot/sensors/camera/apriltagsensor.py\u001b[0m in \u001b[0;36mdetect\u001b[0;34m(self, image_path, measurements)\u001b[0m\n\u001b[1;32m     72\u001b[0m         \u001b[0mim\u001b[0m \u001b[0;34m=\u001b[0m \u001b[0mcv2\u001b[0m\u001b[0;34m.\u001b[0m\u001b[0mimread\u001b[0m\u001b[0;34m(\u001b[0m\u001b[0mimage_path\u001b[0m\u001b[0;34m)\u001b[0m\u001b[0;34m\u001b[0m\u001b[0;34m\u001b[0m\u001b[0m\n\u001b[1;32m     73\u001b[0m \u001b[0;34m\u001b[0m\u001b[0m\n\u001b[0;32m---> 74\u001b[0;31m         \u001b[0mgray\u001b[0m \u001b[0;34m=\u001b[0m \u001b[0mcv2\u001b[0m\u001b[0;34m.\u001b[0m\u001b[0mcvtColor\u001b[0m\u001b[0;34m(\u001b[0m\u001b[0mim\u001b[0m\u001b[0;34m,\u001b[0m \u001b[0mcv2\u001b[0m\u001b[0;34m.\u001b[0m\u001b[0mCOLOR_BGR2GRAY\u001b[0m\u001b[0;34m)\u001b[0m\u001b[0;34m\u001b[0m\u001b[0;34m\u001b[0m\u001b[0m\n\u001b[0m\u001b[1;32m     75\u001b[0m \u001b[0;34m\u001b[0m\u001b[0m\n\u001b[1;32m     76\u001b[0m         \u001b[0;31m# Detect AprilTags in image\u001b[0m\u001b[0;34m\u001b[0m\u001b[0;34m\u001b[0m\u001b[0;34m\u001b[0m\u001b[0m\n",
      "\u001b[0;31merror\u001b[0m: OpenCV(4.1.1) /home/nvidia/host/build_opencv/nv_opencv/modules/imgproc/src/color.cpp:182: error: (-215:Assertion failed) !_src.empty() in function 'cvtColor'\n"
     ]
    }
   ],
   "source": [
    "from sensors.camera.apriltagsensor import *\n",
    "from sensors.calibration.camera_calibration import *\n",
    "\n",
    "\n",
    "filename = \"live_april\"\n",
    "start_time = time.time()\n",
    "sensor = AprilTagSensor(cal_dir)\n",
    "print(f\"Sensor calibration and setup in {time.time()-start_time} seconds\")\n",
    "path = robot.take_picture(image_dir + \"/testing/pose_test/\")\n",
    "measurements={}\n",
    "start_time = time.time()\n",
    "sensor.detect(path, measurements)\n",
    "print(f\"Sensor detections in {time.time()-start_time} seconds\")\n",
    "print(measurements)"
   ]
  },
  {
   "cell_type": "code",
   "execution_count": null,
   "metadata": {},
   "outputs": [],
   "source": [
    "sys.path.append(\"../../deliveryrobot\")\n",
    "\n",
    "from navigation.slam.onlineslam import *\n",
    "\n",
    "slam = OnlineSLAM(3)\n",
    "slam.debug = False\n",
    "start_time = time.time()\n",
    "slam.process_measurements(measurements)\n",
    "slam.process_movement(0,0)\n",
    "slam.map_update()\n",
    "print(f\"SLAM sequence in {time.time()-start_time} seconds\")"
   ]
  },
  {
   "cell_type": "code",
   "execution_count": null,
   "metadata": {},
   "outputs": [],
   "source": [
    "from navigation.astar.astar import *\n",
    "goal_state = measurements[\"4\"]\n",
    "obstacles = {}\n",
    "\n",
    "scalar = 1\n",
    "astar = Astar(\n",
    "    5,\n",
    "    np.pi/4,\n",
    "    0.025*scalar,\n",
    "    1000/scalar,\n",
    "    1,\n",
    "    1,\n",
    "    0.015*scalar\n",
    ")\n",
    "astar.debug = False\n",
    "astar.verbose = False\n",
    "robot_state = np.array([0.,0.,0.])\n",
    "\n",
    "start_time = time.time()\n",
    "test = astar.astar_move(robot_state, obstacles, goal_state)\n",
    "duration = time.time() - start_time\n",
    "print(f\"Results from Astar came in {duration} seconds and are:\")\n",
    "test.print_info()"
   ]
  },
  {
   "cell_type": "code",
   "execution_count": null,
   "metadata": {},
   "outputs": [],
   "source": [
    "import kinematics.movementai as ai\n",
    "steering = ai.SteeringOutput([0.05,0.0],0.0)\n",
    "left, right = robot.robot_ai.get_drive_params(steering, 1)\n",
    "print(left,right)\n",
    "robot.robot.left(left)\n",
    "robot.robot.right(right)\n",
    "time.sleep(0.5)\n",
    "robot.robot.stop()"
   ]
  },
  {
   "cell_type": "code",
   "execution_count": null,
   "metadata": {},
   "outputs": [],
   "source": [
    "\"\"\"\n",
    "robot.target_ai.slam_update([1,0,0])\n",
    "\n",
    "start_time = time.time()\n",
    "path_following = True\n",
    "\n",
    "robot.update_path_ai([(0,[0.0,0.0]),(1,[0.5,0.0]),(2,[0.75, 0.25])])\n",
    "while path_following:\n",
    "    \n",
    "    # TODO figure out what's going wrong here\n",
    "    steering = robot.path_follow_ai(0.5)\n",
    "    robot.robot_ai.estimate_update(steering, time.time() - start_time)\n",
    "    start_time = time.time()\n",
    "    \n",
    "    if steering == None:\n",
    "        path_following = False\n",
    "        robot.left(0)\n",
    "        robot.right(0)\"\"\""
   ]
  },
  {
   "cell_type": "code",
   "execution_count": null,
   "metadata": {},
   "outputs": [],
   "source": []
  }
 ],
 "metadata": {
  "kernelspec": {
   "display_name": "Python 3",
   "language": "python",
   "name": "python3"
  },
  "language_info": {
   "codemirror_mode": {
    "name": "ipython",
    "version": 3
   },
   "file_extension": ".py",
   "mimetype": "text/x-python",
   "name": "python",
   "nbconvert_exporter": "python",
   "pygments_lexer": "ipython3",
   "version": "3.6.9"
  }
 },
 "nbformat": 4,
 "nbformat_minor": 4
}
