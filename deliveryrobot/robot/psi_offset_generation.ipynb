{
 "cells": [
  {
   "cell_type": "markdown",
   "id": "healthy-space",
   "metadata": {},
   "source": [
    "# Apriltag Offset Determination and Calculation"
   ]
  },
  {
   "cell_type": "markdown",
   "id": "connected-drilling",
   "metadata": {},
   "source": [
    "## Imports"
   ]
  },
  {
   "cell_type": "code",
   "execution_count": 1,
   "id": "recorded-ocean",
   "metadata": {},
   "outputs": [],
   "source": [
    "import sys\n",
    "import time\n",
    "import matplotlib.pyplot as plt\n",
    "import cv2\n",
    "import math\n",
    "import numpy\n",
    "import scipy.stats as stats\n",
    "from numpy.polynomial import Polynomial\n",
    "import matplotlib.pyplot as plt\n",
    "\n",
    "import delivery_driver as dd\n",
    "\n",
    "sys.path.append(\"../../deliveryrobot\")\n",
    "from utilities.utilities import *\n",
    "from sensors.camera.apriltagsensor import *\n",
    "from sensors.calibration.camera_calibration import *"
   ]
  },
  {
   "cell_type": "markdown",
   "id": "absolute-cambodia",
   "metadata": {},
   "source": [
    "## Camera Initialization"
   ]
  },
  {
   "cell_type": "code",
   "execution_count": 2,
   "id": "widespread-brass",
   "metadata": {},
   "outputs": [
    {
     "ename": "RuntimeError",
     "evalue": "Could not initialize camera.  Please see error trace.",
     "output_type": "error",
     "traceback": [
      "\u001b[0;31m\u001b[0m",
      "\u001b[0;31mRuntimeError\u001b[0mTraceback (most recent call last)",
      "\u001b[0;32m/usr/local/lib/python3.6/dist-packages/jetbot-0.4.3-py3.6.egg/jetbot/camera/opencv_gst_camera.py\u001b[0m in \u001b[0;36m__init__\u001b[0;34m(self, *args, **kwargs)\u001b[0m\n\u001b[1;32m     29\u001b[0m             \u001b[0;32mif\u001b[0m \u001b[0;32mnot\u001b[0m \u001b[0mre\u001b[0m\u001b[0;34m:\u001b[0m\u001b[0;34m\u001b[0m\u001b[0;34m\u001b[0m\u001b[0m\n\u001b[0;32m---> 30\u001b[0;31m                 \u001b[0;32mraise\u001b[0m \u001b[0mRuntimeError\u001b[0m\u001b[0;34m(\u001b[0m\u001b[0;34m'Could not read image from camera.'\u001b[0m\u001b[0;34m)\u001b[0m\u001b[0;34m\u001b[0m\u001b[0;34m\u001b[0m\u001b[0m\n\u001b[0m\u001b[1;32m     31\u001b[0m \u001b[0;34m\u001b[0m\u001b[0m\n",
      "\u001b[0;31mRuntimeError\u001b[0m: Could not read image from camera.",
      "\nDuring handling of the above exception, another exception occurred:\n",
      "\u001b[0;31mRuntimeError\u001b[0mTraceback (most recent call last)",
      "\u001b[0;32m<ipython-input-2-9cb379841778>\u001b[0m in \u001b[0;36m<module>\u001b[0;34m\u001b[0m\n\u001b[0;32m----> 1\u001b[0;31m \u001b[0mrobot\u001b[0m \u001b[0;34m=\u001b[0m \u001b[0mdd\u001b[0m\u001b[0;34m.\u001b[0m\u001b[0mDeliveryRobot\u001b[0m\u001b[0;34m(\u001b[0m\u001b[0;34m)\u001b[0m\u001b[0;34m\u001b[0m\u001b[0;34m\u001b[0m\u001b[0m\n\u001b[0m\u001b[1;32m      2\u001b[0m \u001b[0msensor\u001b[0m \u001b[0;34m=\u001b[0m \u001b[0mAprilTagSensor\u001b[0m\u001b[0;34m(\u001b[0m\u001b[0mcal_dir\u001b[0m\u001b[0;34m)\u001b[0m\u001b[0;34m\u001b[0m\u001b[0;34m\u001b[0m\u001b[0m\n",
      "\u001b[0;32m/workspace/DeliveryRobot/deliveryrobot/robot/delivery_driver.py\u001b[0m in \u001b[0;36m__init__\u001b[0;34m(self)\u001b[0m\n\u001b[1;32m     55\u001b[0m         \u001b[0;31m# hardware setup\u001b[0m\u001b[0;34m\u001b[0m\u001b[0;34m\u001b[0m\u001b[0;34m\u001b[0m\u001b[0m\n\u001b[1;32m     56\u001b[0m         \u001b[0mself\u001b[0m\u001b[0;34m.\u001b[0m\u001b[0mrobot\u001b[0m \u001b[0;34m=\u001b[0m \u001b[0mRobot\u001b[0m\u001b[0;34m(\u001b[0m\u001b[0;34m)\u001b[0m\u001b[0;34m\u001b[0m\u001b[0;34m\u001b[0m\u001b[0m\n\u001b[0;32m---> 57\u001b[0;31m         \u001b[0mself\u001b[0m\u001b[0;34m.\u001b[0m\u001b[0mcamera\u001b[0m \u001b[0;34m=\u001b[0m \u001b[0mCamera\u001b[0m\u001b[0;34m.\u001b[0m\u001b[0minstance\u001b[0m\u001b[0;34m(\u001b[0m\u001b[0mwidth\u001b[0m\u001b[0;34m=\u001b[0m\u001b[0;36m1224\u001b[0m\u001b[0;34m,\u001b[0m \u001b[0mheight\u001b[0m\u001b[0;34m=\u001b[0m\u001b[0;36m1224\u001b[0m\u001b[0;34m)\u001b[0m\u001b[0;34m\u001b[0m\u001b[0;34m\u001b[0m\u001b[0m\n\u001b[0m\u001b[1;32m     58\u001b[0m \u001b[0;34m\u001b[0m\u001b[0m\n\u001b[1;32m     59\u001b[0m         \u001b[0;31m# AI movement setup\u001b[0m\u001b[0;34m\u001b[0m\u001b[0;34m\u001b[0m\u001b[0;34m\u001b[0m\u001b[0m\n",
      "\u001b[0;32m/usr/local/lib/python3.6/dist-packages/jetbot-0.4.3-py3.6.egg/jetbot/camera/opencv_gst_camera.py\u001b[0m in \u001b[0;36minstance\u001b[0;34m(*args, **kwargs)\u001b[0m\n\u001b[1;32m     70\u001b[0m     \u001b[0;34m@\u001b[0m\u001b[0mstaticmethod\u001b[0m\u001b[0;34m\u001b[0m\u001b[0;34m\u001b[0m\u001b[0m\n\u001b[1;32m     71\u001b[0m     \u001b[0;32mdef\u001b[0m \u001b[0minstance\u001b[0m\u001b[0;34m(\u001b[0m\u001b[0;34m*\u001b[0m\u001b[0margs\u001b[0m\u001b[0;34m,\u001b[0m \u001b[0;34m**\u001b[0m\u001b[0mkwargs\u001b[0m\u001b[0;34m)\u001b[0m\u001b[0;34m:\u001b[0m\u001b[0;34m\u001b[0m\u001b[0;34m\u001b[0m\u001b[0m\n\u001b[0;32m---> 72\u001b[0;31m         \u001b[0;32mreturn\u001b[0m \u001b[0mOpenCvGstCamera\u001b[0m\u001b[0;34m(\u001b[0m\u001b[0;34m*\u001b[0m\u001b[0margs\u001b[0m\u001b[0;34m,\u001b[0m \u001b[0;34m**\u001b[0m\u001b[0mkwargs\u001b[0m\u001b[0;34m)\u001b[0m\u001b[0;34m\u001b[0m\u001b[0;34m\u001b[0m\u001b[0m\n\u001b[0m",
      "\u001b[0;32m/usr/local/lib/python3.6/dist-packages/jetbot-0.4.3-py3.6.egg/jetbot/camera/opencv_gst_camera.py\u001b[0m in \u001b[0;36m__init__\u001b[0;34m(self, *args, **kwargs)\u001b[0m\n\u001b[1;32m     35\u001b[0m             \u001b[0mself\u001b[0m\u001b[0;34m.\u001b[0m\u001b[0mstop\u001b[0m\u001b[0;34m(\u001b[0m\u001b[0;34m)\u001b[0m\u001b[0;34m\u001b[0m\u001b[0;34m\u001b[0m\u001b[0m\n\u001b[1;32m     36\u001b[0m             raise RuntimeError(\n\u001b[0;32m---> 37\u001b[0;31m                 'Could not initialize camera.  Please see error trace.')\n\u001b[0m\u001b[1;32m     38\u001b[0m \u001b[0;34m\u001b[0m\u001b[0m\n\u001b[1;32m     39\u001b[0m         \u001b[0matexit\u001b[0m\u001b[0;34m.\u001b[0m\u001b[0mregister\u001b[0m\u001b[0;34m(\u001b[0m\u001b[0mself\u001b[0m\u001b[0;34m.\u001b[0m\u001b[0mstop\u001b[0m\u001b[0;34m)\u001b[0m\u001b[0;34m\u001b[0m\u001b[0;34m\u001b[0m\u001b[0m\n",
      "\u001b[0;31mRuntimeError\u001b[0m: Could not initialize camera.  Please see error trace."
     ]
    }
   ],
   "source": [
    "robot = dd.DeliveryRobot()\n",
    "sensor = AprilTagSensor(cal_dir)"
   ]
  },
  {
   "cell_type": "code",
   "execution_count": null,
   "id": "cleared-treasure",
   "metadata": {},
   "outputs": [],
   "source": [
    "actual_measurements = [0., 0., 0., 0., 0.]\n",
    "distance = np.array([0.3, 0.6, 0.9, 1.2])\n",
    "\n",
    "yaw = []\n",
    "yaw_min = []\n",
    "yaw_mean = []\n",
    "yaw_max = []\n",
    "yaw_stdev = []\n",
    "\n",
    "meas_idx = 0"
   ]
  },
  {
   "cell_type": "code",
   "execution_count": null,
   "id": "internal-invite",
   "metadata": {},
   "outputs": [],
   "source": [
    "count = 0\n",
    "\n",
    "yaw_n = []\n",
    "\n",
    "while count < 50:\n",
    "    april_img = robot.take_picture(image_dir + \"/testing/apriltagsensor_test/\")\n",
    "    measurements={}\n",
    "    sensor.detect(april_img, measurements)\n",
    "    #print(f\"{measurements['1'][0]}\\t{measurements['1'][1]}\\t{measurements['1'][2]}\")\n",
    "    yaw_n.append(measurements['1'][2])\n",
    "    count += 1\n",
    "    \n",
    "yaw_n = np.array(yaw_n)\n",
    "yaw.append(np.mean(yaw_n))\n",
    "yaw_min.append(np.min(yaw_n))\n",
    "yaw_mean.append(np.mean(yaw_n))\n",
    "yaw_max.append(np.max(yaw_n))\n",
    "yaw_stdev.append(np.std(yaw_n))\n",
    "\n",
    "# After the loop, create a histogram\n",
    "plt.figure(figsize=(10, 6))\n",
    "plt.hist(yaw_n, bins=10, color='blue', alpha=0.7)\n",
    "\n",
    "# Add titles and labels\n",
    "plt.title(f'Histogram of Yaw = {actual_measurements[meas_idx]} After 50 Iterations')\n",
    "plt.xlabel('Yaw Measurement')\n",
    "plt.ylabel('Frequency')\n",
    "\n",
    "# Show the plot\n",
    "plt.savefig(f\"psi_{actual_measurements[meas_idx]}_distribution.png\")\n",
    "\n",
    "meas_idx += 1"
   ]
  },
  {
   "cell_type": "markdown",
   "id": "liberal-tension",
   "metadata": {},
   "source": [
    "## Determine MOE for Viability of Measurement Sets"
   ]
  },
  {
   "cell_type": "code",
   "execution_count": null,
   "id": "dried-modeling",
   "metadata": {},
   "outputs": [],
   "source": [
    "print(yaw)\n",
    "print(yaw_min)\n",
    "print(yaw_mean)\n",
    "print(yaw_max)\n",
    "print(yaw_stdev)"
   ]
  },
  {
   "cell_type": "code",
   "execution_count": null,
   "id": "going-update",
   "metadata": {},
   "outputs": [],
   "source": [
    "# Python notebook cell to calculate the margin of error based on readings\n",
    "def calculate_margin_of_error(std_devs, n, confidence_level=0.95):\n",
    "    # Calculate z-score for the given confidence level\n",
    "    z_score = stats.norm.ppf((1 + confidence_level) / 2)\n",
    "    \n",
    "    # Calculate margin of error\n",
    "    margin_of_error = z_score * (std_devs / np.sqrt(n))\n",
    "    return margin_of_error\n",
    "\n",
    "# Determine MOE\n",
    "n = 50  # Sample size\n",
    "margin_of_error = calculate_margin_of_error(yaw_stdev, n)\n",
    "margin_of_error"
   ]
  },
  {
   "cell_type": "markdown",
   "id": "polyphonic-mechanism",
   "metadata": {},
   "source": [
    "## Determine Quadratic Model"
   ]
  },
  {
   "cell_type": "code",
   "execution_count": null,
   "id": "moving-trunk",
   "metadata": {},
   "outputs": [],
   "source": [
    "# Function to fit a quadratic model\n",
    "distance = np.array([0.3,0.6,0.9,1.2])\n",
    "print(distance)\n",
    "def fit_quadratic_model(distance, mean_error):\n",
    "    p = Polynomial.fit(distance, mean_error, 2)\n",
    "    return p\n",
    "\n",
    "# Fit the quadratic model\n",
    "quadratic_model = fit_quadratic_model(distance, yaw_mean)\n",
    "print(\"Quadratic Model:\", quadratic_model)"
   ]
  },
  {
   "cell_type": "code",
   "execution_count": null,
   "id": "willing-karaoke",
   "metadata": {},
   "outputs": [],
   "source": [
    "import numpy as np\n",
    "import matplotlib.pyplot as plt\n",
    "from numpy.polynomial import Polynomial\n",
    "\n",
    "# get predicted error\n",
    "simulated_distances = np.linspace(distance[0],distance[-1]+1,1000)\n",
    "predicted_error = quadratic_model(simulated_distances)\n",
    "\n",
    "# Transform x-values to log(x)\n",
    "log_x = np.log(distance)\n",
    "\n",
    "# Perform linear fit on log-transformed x\n",
    "coefficients = np.polyfit(log_x, yaw_mean, 1)\n",
    "\n",
    "# Extract the coefficients\n",
    "a = coefficients[0]  # Slope\n",
    "b = coefficients[1]  # Intercept\n",
    "\n",
    "# Logarithmic model: y = a * log(x) + b\n",
    "y_fit = a * np.log(simulated_distances) + b\n",
    "\n",
    "# Plot the original data points and the logarithmic fit\n",
    "plt.scatter(distance, yaw_mean, label=\"Data Points\")\n",
    "plt.plot(simulated_distances, y_fit, label=\"Logarithmic Fit\", color='red')\n",
    "plt.xlabel('x')\n",
    "plt.ylabel('y')\n",
    "plt.legend()\n",
    "plt.show()\n",
    "\n",
    "# Output coefficients\n",
    "print(f\"Fitted model: y = {a:.3f} * log(x) + {b:.3f}\")"
   ]
  },
  {
   "cell_type": "code",
   "execution_count": null,
   "id": "monetary-cabin",
   "metadata": {},
   "outputs": [],
   "source": [
    "print(a,b)"
   ]
  },
  {
   "cell_type": "markdown",
   "id": "satisfactory-pastor",
   "metadata": {},
   "source": [
    "## Determine Coefficient of Determination $R^2$"
   ]
  },
  {
   "cell_type": "code",
   "execution_count": null,
   "id": "asian-seventh",
   "metadata": {},
   "outputs": [],
   "source": [
    "# Define a function to calculate R-squared for the logarithmic fit\n",
    "def calculate_r_squared(x, y, a, b):\n",
    "    # Predicted values from the logarithmic model y = a * log(x) + b\n",
    "    y_pred = a * np.log(x) + b\n",
    "    \n",
    "    # Mean of the actual y-values\n",
    "    y_mean = np.mean(y)\n",
    "    \n",
    "    # Total sum of squares (variance of the data)\n",
    "    ss_total = np.sum((y - y_mean) ** 2)\n",
    "    \n",
    "    # Residual sum of squares (variance not explained by the model)\n",
    "    ss_residual = np.sum((y - y_pred) ** 2)\n",
    "    \n",
    "    # R-squared value\n",
    "    r_squared = 1 - (ss_residual / ss_total)\n",
    "    \n",
    "    return r_squared\n",
    "\n",
    "# Calculate R-squared for the logarithmic model\n",
    "r_squared = calculate_r_squared(distance, yaw_mean, a, b)\n",
    "print(f\"R-squared: {r_squared:.4f}\")"
   ]
  },
  {
   "cell_type": "code",
   "execution_count": null,
   "id": "indirect-absorption",
   "metadata": {},
   "outputs": [],
   "source": []
  }
 ],
 "metadata": {
  "kernelspec": {
   "display_name": "Python 3",
   "language": "python",
   "name": "python3"
  },
  "language_info": {
   "codemirror_mode": {
    "name": "ipython",
    "version": 3
   },
   "file_extension": ".py",
   "mimetype": "text/x-python",
   "name": "python",
   "nbconvert_exporter": "python",
   "pygments_lexer": "ipython3",
   "version": "3.6.9"
  }
 },
 "nbformat": 4,
 "nbformat_minor": 5
}
